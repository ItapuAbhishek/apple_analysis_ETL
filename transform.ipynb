{
 "cells": [
  {
   "cell_type": "code",
   "execution_count": 0,
   "metadata": {
    "application/vnd.databricks.v1+cell": {
     "cellMetadata": {
      "byteLimit": 2048000,
      "rowLimit": 10000
     },
     "inputWidgets": {},
     "nuid": "8f08305e-eef1-4144-ab1b-be18dc9a1663",
     "showTitle": false,
     "tableResultSettingsMap": {},
     "title": ""
    }
   },
   "outputs": [],
   "source": [
    "from pyspark.sql.functions import *\n",
    "from pyspark.sql.types import *\n",
    "from pyspark.sql.window import Window\n",
    "\n",
    "class Transform:\n",
    "  def __init__(self):\n",
    "    pass\n",
    "\n",
    "  def transform(self,inputDF):\n",
    "    pass\n",
    "\n",
    "\n",
    "class AirpodsAfterIphoneTransformer(Transform):\n",
    "\n",
    "  def transform(self, inputDF):\n",
    "\n",
    "    \"customers who have bought Airpods after buying the iPhone\"\n",
    "\n",
    "    transactionInputDF= inputDF.get(\"transactionInputDF\")\n",
    "\n",
    "    print(\"transactionInputDF in transform\")\n",
    "\n",
    "    transactionInputDF.show()\n",
    "\n",
    "    windowspec= Window.partitionBy('customer_id').orderBy('transaction_date')\n",
    "\n",
    "    transformedDF= transactionInputDF.withColumn('next_product_name', lead('product_name').over(windowspec))\n",
    "\n",
    "    print('Airpods after buying iPhones')\n",
    "    transformedDF.orderBy('customer_id','transaction_date','product_name').show()\n",
    "\n",
    "    filteredDF= transformedDF.filter( (col('product_name')=='iPhone')& (col('next_product_name')=='AirPods') )\n",
    "\n",
    "    print('filtered_products')\n",
    "\n",
    "    filteredDF.orderBy('customer_id','transaction_date','product_name').show()\n",
    "\n",
    "    customerInputDF= inputDF.get('customerInputDF')\n",
    "\n",
    "    customerInputDF.show()\n",
    "\n",
    "    joinedDF= customerInputDF.join(broadcast(filteredDF),customerInputDF['customer_id']==filteredDF['customer_id'])\n",
    "\n",
    "    print('joined DF')\n",
    "    return joinedDF.select(customerInputDF['customer_id'],'customer_name','location')\n",
    "  \n",
    "\n",
    "class OnlyAirpodsAndIphone(Transform):\n",
    "  def transform(self,inputDF):\n",
    "    \"\"\"\n",
    "    Customer who have bought only iPhone and Airpods \n",
    "\n",
    "    \"\"\"\n",
    "    transactionInputDF= inputDF.get(\"transactionInputDF\")\n",
    "\n",
    "    print(\"transactionInputDF in transform\")\n",
    "\n",
    "    groupedDF= transactionInputDF.groupBy('customer_id').agg(collect_set('product_name').alias('products'))\n",
    "\n",
    "    print('Grouped Dataframe')\n",
    "\n",
    "    groupedDF.show()\n",
    "\n",
    "    filteredDF= groupedDF.filter( (array_contains(col('products'),'iPhone'))& (array_contains(col('products'),'AirPods'))\n",
    "                                     &(size(col('products'))==2) )\n",
    "\n",
    "    print('only Airpods and iPhones')\n",
    "\n",
    "    filteredDF.show()\n",
    "\n",
    "    customerInputDF= inputDF.get('customerInputDF')\n",
    "\n",
    "    customerInputDF.show()\n",
    "\n",
    "    joinedDF= customerInputDF.join(broadcast(filteredDF),customerInputDF['customer_id']==filteredDF['customer_id'])\n",
    "\n",
    "    joinedDF.show()\n",
    "    return joinedDF.select(customerInputDF['customer_id'],'customer_name','location')\n",
    "    \n",
    "\n",
    "\n",
    "    \n",
    "\n",
    "    \n",
    "    \n",
    "\n",
    "\n"
   ]
  },
  {
   "cell_type": "code",
   "execution_count": 0,
   "metadata": {
    "application/vnd.databricks.v1+cell": {
     "cellMetadata": {
      "byteLimit": 2048000,
      "rowLimit": 10000
     },
     "inputWidgets": {},
     "nuid": "ee057d8e-b722-42e3-a24f-8d8093e2dd07",
     "showTitle": false,
     "tableResultSettingsMap": {},
     "title": ""
    }
   },
   "outputs": [],
   "source": []
  }
 ],
 "metadata": {
  "application/vnd.databricks.v1+notebook": {
   "dashboards": [],
   "environmentMetadata": null,
   "language": "python",
   "notebookMetadata": {
    "pythonIndentUnit": 2
   },
   "notebookName": "transform",
   "widgets": {}
  }
 },
 "nbformat": 4,
 "nbformat_minor": 0
}
