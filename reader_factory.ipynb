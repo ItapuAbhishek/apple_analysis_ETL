{
 "cells": [
  {
   "cell_type": "code",
   "execution_count": 0,
   "metadata": {
    "application/vnd.databricks.v1+cell": {
     "cellMetadata": {
      "byteLimit": 2048000,
      "rowLimit": 10000
     },
     "inputWidgets": {},
     "nuid": "67d7cde9-eb08-47c6-9f36-bf8f5ee9e956",
     "showTitle": false,
     "tableResultSettingsMap": {},
     "title": ""
    }
   },
   "outputs": [],
   "source": [
    "class DataSource:\n",
    "  \"\"\"\n",
    "  Abstract class\n",
    "\n",
    "  \"\"\"\n",
    "  def __init__(self,path):\n",
    "    self.path=path\n",
    "\n",
    "  def get_data_frame(self):\n",
    "    \"\"\"\n",
    "\n",
    "    Abstract method, function will be defined in sub classes.\n",
    "\n",
    "    \"\"\"\n",
    "    raise ValueError('Not Implemented')\n",
    "\n",
    "\n",
    "class CSVDataSource(DataSource):\n",
    "\n",
    "  def get_data_frame(self):\n",
    "\n",
    "    return (\n",
    "           \n",
    "           spark.read.format('csv')\n",
    "                .option('header','true')\n",
    "                .load(self.path)\n",
    "\n",
    "           )\n",
    "\n",
    "class ParquetDataSource(DataSource):\n",
    "\n",
    "  def get_data_frame(self):\n",
    "\n",
    "    return (\n",
    "           \n",
    "           spark.read.format('parquet')\n",
    "                .option('header','true')\n",
    "                .load(self.path)\n",
    "\n",
    "           )\n",
    "\n",
    "class DeltaDataSource(DataSource):\n",
    "\n",
    "  def get_data_frame(self):\n",
    "\n",
    "    return (\n",
    "           \n",
    "           spark.read.format('delta')\n",
    "                .option('header','true')\n",
    "                .table(self.path)\n",
    "\n",
    "           )\n",
    "\n",
    "\n",
    "def get_data_source(data_type,file_path):\n",
    "\n",
    "  if data_type=='csv':\n",
    "    return CSVDataSource(file_path)\n",
    "  \n",
    "  elif data_type=='parquet':\n",
    "    return ParquetDataSource(file_path)\n",
    "  \n",
    "  elif data_type=='delta':\n",
    "    return DeltaDataSource(file_path)\n",
    "  \n",
    "  else:\n",
    "    raise ValueError(f'Not implemented for data type:{data_type}')\n",
    "\n",
    "\n",
    "\n"
   ]
  }
 ],
 "metadata": {
  "application/vnd.databricks.v1+notebook": {
   "dashboards": [],
   "environmentMetadata": null,
   "language": "python",
   "notebookMetadata": {
    "pythonIndentUnit": 2
   },
   "notebookName": "reader_factory",
   "widgets": {}
  }
 },
 "nbformat": 4,
 "nbformat_minor": 0
}
