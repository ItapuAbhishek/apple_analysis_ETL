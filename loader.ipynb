{
 "cells": [
  {
   "cell_type": "code",
   "execution_count": 0,
   "metadata": {
    "application/vnd.databricks.v1+cell": {
     "cellMetadata": {
      "byteLimit": 2048000,
      "rowLimit": 10000
     },
     "inputWidgets": {},
     "nuid": "ef019df7-460c-4b19-8ddb-bfc98aeac5ff",
     "showTitle": false,
     "tableResultSettingsMap": {},
     "title": ""
    }
   },
   "outputs": [
    {
     "output_type": "display_data",
     "data": {
      "text/plain": [
       ""
      ]
     },
     "metadata": {
      "application/vnd.databricks.v1+output": {
       "arguments": {},
       "data": "",
       "errorSummary": "The execution of this command did not finish successfully",
       "errorTraceType": "ansi",
       "metadata": {},
       "type": "ipynbError"
      }
     },
     "output_type": "display_data"
    }
   ],
   "source": [
    "%run \"./loader_factory\""
   ]
  },
  {
   "cell_type": "code",
   "execution_count": 0,
   "metadata": {
    "application/vnd.databricks.v1+cell": {
     "cellMetadata": {
      "byteLimit": 2048000,
      "rowLimit": 10000
     },
     "inputWidgets": {},
     "nuid": "08b1c916-7f87-4fbc-ad45-cbd41364f792",
     "showTitle": false,
     "tableResultSettingsMap": {},
     "title": ""
    }
   },
   "outputs": [
    {
     "output_type": "display_data",
     "data": {
      "text/plain": [
       ""
      ]
     },
     "metadata": {
      "application/vnd.databricks.v1+output": {
       "arguments": {},
       "data": "",
       "errorSummary": "Command skipped",
       "errorTraceType": "ansi",
       "metadata": {},
       "type": "ipynbError"
      }
     },
     "output_type": "display_data"
    }
   ],
   "source": [
    "class AbstractLoader:\n",
    "\n",
    "  def __init__(self,transformedDF):\n",
    "    self.transformedDF=transformedDF\n",
    "\n",
    "  def sink(self):\n",
    "    pass\n",
    "\n",
    "class AirpodsAfterIphoneLoader(AbstractLoader):\n",
    "\n",
    "  def sink(self):\n",
    "    get_sink_source(\n",
    "      sink_type='dbfs',\n",
    "      df=self.transformedDF,\n",
    "      path='dbfs:/Users/abhishekitapu.ai@gmail.com/AppleAnalysis/output/AirpodsAfterIphone',\n",
    "      method='overwrite'\n",
    "    ).load_data_frame()\n",
    "\n",
    "class OnlyAirpodsAndIphoneLoader(AbstractLoader): \n",
    "\n",
    "  def sink(self):\n",
    "    params= {\n",
    "          'partitionByColumns':['location']\n",
    "\n",
    "         }\n",
    "\n",
    "    get_sink_source(\n",
    "      sink_type='dbfs_with_partition',\n",
    "      df=self.transformedDF,\n",
    "      path='dbfs:/Users/abhishekitapu.ai@gmail.com/AppleAnalysis/output/AirpodsandIphone',\n",
    "      method='overwrite',\n",
    "      params=params\n",
    "    ).load_data_frame()\n",
    "\n",
    "    get_sink_source(\n",
    "      sink_type='delta',\n",
    "      df=self.transformedDF,\n",
    "      path='default.OnlyAirpodsandIphone',\n",
    "      method='overwrite',\n",
    "    ).load_data_frame()\n",
    "\n"
   ]
  },
  {
   "cell_type": "code",
   "execution_count": 0,
   "metadata": {
    "application/vnd.databricks.v1+cell": {
     "cellMetadata": {
      "byteLimit": 2048000,
      "rowLimit": 10000
     },
     "inputWidgets": {},
     "nuid": "4bb75116-8ce8-4cda-8bfe-43c1e2b83edf",
     "showTitle": false,
     "tableResultSettingsMap": {},
     "title": ""
    }
   },
   "outputs": [],
   "source": []
  }
 ],
 "metadata": {
  "application/vnd.databricks.v1+notebook": {
   "dashboards": [],
   "environmentMetadata": null,
   "language": "python",
   "notebookMetadata": {
    "pythonIndentUnit": 2
   },
   "notebookName": "loader",
   "widgets": {}
  }
 },
 "nbformat": 4,
 "nbformat_minor": 0
}
