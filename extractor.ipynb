{
 "cells": [
  {
   "cell_type": "code",
   "execution_count": 0,
   "metadata": {
    "application/vnd.databricks.v1+cell": {
     "cellMetadata": {
      "byteLimit": 2048000,
      "rowLimit": 10000
     },
     "inputWidgets": {},
     "nuid": "e8151dd0-aa5c-43d8-aaba-775f46ec9d27",
     "showTitle": false,
     "tableResultSettingsMap": {},
     "title": ""
    }
   },
   "outputs": [],
   "source": [
    "%run \"./reader_factory\""
   ]
  },
  {
   "cell_type": "code",
   "execution_count": 0,
   "metadata": {
    "application/vnd.databricks.v1+cell": {
     "cellMetadata": {
      "byteLimit": 2048000,
      "rowLimit": 10000
     },
     "inputWidgets": {},
     "nuid": "9b8816e2-33f8-47f6-8f2d-d6b63a1e5cd8",
     "showTitle": false,
     "tableResultSettingsMap": {},
     "title": ""
    }
   },
   "outputs": [],
   "source": [
    "class Extractor:\n",
    "  \"\"\"\n",
    "  Abstract class\n",
    "\n",
    "  \"\"\"\n",
    "\n",
    "  def __init__(self):\n",
    "    pass\n",
    "\n",
    "  def extract(self):\n",
    "    pass\n",
    "\n",
    "\n",
    "class AirpodsAfteriPhoneExtractor(Extractor):\n",
    "\n",
    "  def extract(self):\n",
    "    transactionInputDF= get_data_source(data_type='csv',file_path='dbfs:/FileStore/tables/Transaction_Updated.csv').get_data_frame()\n",
    "\n",
    "    #transactionInputDF.show()\n",
    "\n",
    "    customerInputDF = get_data_source(data_type='delta',file_path='default.customer_delta_table').get_data_frame()\n",
    "\n",
    "    #customerInputDF.show()\n",
    "\n",
    "\n",
    "    inputDF= {\n",
    "              \n",
    "              \"transactionInputDF\": transactionInputDF,\n",
    "              'customerInputDF': customerInputDF\n",
    "\n",
    "             }\n",
    "\n",
    "    #customers who have bought Airpods after buying the iPhone\n",
    "\n",
    "    return inputDF\n",
    "\n",
    "    \n",
    "\n"
   ]
  },
  {
   "cell_type": "code",
   "execution_count": 0,
   "metadata": {
    "application/vnd.databricks.v1+cell": {
     "cellMetadata": {
      "byteLimit": 2048000,
      "rowLimit": 10000
     },
     "inputWidgets": {},
     "nuid": "4b5df851-3bba-4e33-8ca8-ce380ba7b916",
     "showTitle": false,
     "tableResultSettingsMap": {},
     "title": ""
    }
   },
   "outputs": [],
   "source": []
  }
 ],
 "metadata": {
  "application/vnd.databricks.v1+notebook": {
   "dashboards": [],
   "environmentMetadata": null,
   "language": "python",
   "notebookMetadata": {
    "pythonIndentUnit": 2
   },
   "notebookName": "extractor",
   "widgets": {}
  }
 },
 "nbformat": 4,
 "nbformat_minor": 0
}
