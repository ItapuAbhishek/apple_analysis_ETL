{
 "cells": [
  {
   "cell_type": "code",
   "execution_count": 0,
   "metadata": {
    "application/vnd.databricks.v1+cell": {
     "cellMetadata": {
      "byteLimit": 2048000,
      "rowLimit": 10000
     },
     "inputWidgets": {},
     "nuid": "542310da-033a-476c-a7eb-742287a27622",
     "showTitle": false,
     "tableResultSettingsMap": {},
     "title": ""
    }
   },
   "outputs": [],
   "source": [
    "\n",
    "\n",
    "\n"
   ]
  },
  {
   "cell_type": "code",
   "execution_count": 0,
   "metadata": {
    "application/vnd.databricks.v1+cell": {
     "cellMetadata": {
      "byteLimit": 2048000,
      "rowLimit": 10000
     },
     "inputWidgets": {},
     "nuid": "a9e837ff-9977-452b-b7ec-93fe3678934f",
     "showTitle": false,
     "tableResultSettingsMap": {},
     "title": ""
    }
   },
   "outputs": [],
   "source": [
    "%run \"./transform\""
   ]
  },
  {
   "cell_type": "code",
   "execution_count": 0,
   "metadata": {
    "application/vnd.databricks.v1+cell": {
     "cellMetadata": {
      "byteLimit": 2048000,
      "rowLimit": 10000
     },
     "inputWidgets": {},
     "nuid": "1e0990af-ba84-4924-b722-539e3055d61c",
     "showTitle": false,
     "tableResultSettingsMap": {},
     "title": ""
    }
   },
   "outputs": [],
   "source": [
    "%run \"./extractor\""
   ]
  },
  {
   "cell_type": "code",
   "execution_count": 0,
   "metadata": {
    "application/vnd.databricks.v1+cell": {
     "cellMetadata": {
      "byteLimit": 2048000,
      "rowLimit": 10000
     },
     "inputWidgets": {},
     "nuid": "a0194f82-85c9-4a93-b625-e66c93dcc26e",
     "showTitle": false,
     "tableResultSettingsMap": {},
     "title": ""
    }
   },
   "outputs": [],
   "source": [
    "%run \"./loader\""
   ]
  },
  {
   "cell_type": "code",
   "execution_count": 0,
   "metadata": {
    "application/vnd.databricks.v1+cell": {
     "cellMetadata": {
      "byteLimit": 2048000,
      "rowLimit": 10000
     },
     "inputWidgets": {},
     "nuid": "e0a1eeb4-6220-484a-bb51-e9e78dd2b66d",
     "showTitle": false,
     "tableResultSettingsMap": {},
     "title": ""
    }
   },
   "outputs": [],
   "source": [
    "class FirstWorkFlow:\n",
    "  \"\"\"\n",
    "  ETL pipeline to generate data for all customers who have bought Airpods just after buying iPhone\n",
    "\n",
    "  \"\"\"\n",
    "\n",
    "  def __init__(self):\n",
    "    pass\n",
    "\n",
    "  def runner(self):\n",
    "\n",
    "    #step1 Extract all required data from different sources\n",
    "    inputDF= AirpodsAfteriPhoneExtractor().extract()\n",
    "\n",
    "    #Implement the Transformation logic\n",
    "    transformedDF= AirpodsAfterIphoneTransformer().transform(inputDF)\n",
    "\n",
    "    #Load all required data to sink\n",
    "    AirpodsAfterIphoneLoader(transformedDF).sink()\n",
    "\n",
    "\n",
    "\n",
    "    \n",
    "\n",
    "    \n",
    "\n"
   ]
  },
  {
   "cell_type": "code",
   "execution_count": 0,
   "metadata": {
    "application/vnd.databricks.v1+cell": {
     "cellMetadata": {
      "byteLimit": 2048000,
      "rowLimit": 10000
     },
     "inputWidgets": {},
     "nuid": "58e0f235-06d8-4312-993d-f14da19e4e2b",
     "showTitle": false,
     "tableResultSettingsMap": {},
     "title": ""
    }
   },
   "outputs": [],
   "source": [
    "class SecondWorkFlow:\n",
    "  \"\"\"\n",
    "  ETL pipeline to generate data for all customers who have bought Airpods just after buying iPhone\n",
    "\n",
    "  \"\"\"\n",
    "\n",
    "  def __init__(self):\n",
    "    pass\n",
    "\n",
    "  def runner(self):\n",
    "\n",
    "    #step1 Extract all required data from different sources\n",
    "    inputDF= AirpodsAfteriPhoneExtractor().extract()\n",
    "\n",
    "    #Implement the Transformation logic\n",
    "    onlyAirpodsAndIphoneDF= OnlyAirpodsAndIphone().transform(inputDF)\n",
    "\n",
    "    #Load all required data to sink\n",
    "    OnlyAirpodsAndIphoneLoader(onlyAirpodsAndIphoneDF).sink()\n",
    "\n",
    "\n",
    "\n"
   ]
  },
  {
   "cell_type": "code",
   "execution_count": 0,
   "metadata": {
    "application/vnd.databricks.v1+cell": {
     "cellMetadata": {
      "byteLimit": 2048000,
      "rowLimit": 10000
     },
     "inputWidgets": {},
     "nuid": "f1dd6291-0cbc-4511-b122-fcc2fa17eba5",
     "showTitle": false,
     "tableResultSettingsMap": {},
     "title": ""
    }
   },
   "outputs": [
    {
     "output_type": "stream",
     "name": "stdout",
     "output_type": "stream",
     "text": [
      "transactionInputDF in transform\nGrouped Dataframe\n+-----------+--------------------+\n|customer_id|            products|\n+-----------+--------------------+\n|        107|   [AirPods, iPhone]|\n|        108|   [AirPods, iPhone]|\n|        106|[AirPods, iPhone,...|\n|        105|[AirPods, iPhone,...|\n+-----------+--------------------+\n\nonly Airpods and iPhones\n+-----------+-----------------+\n|customer_id|         products|\n+-----------+-----------------+\n|        107|[AirPods, iPhone]|\n|        108|[AirPods, iPhone]|\n+-----------+-----------------+\n\n+-----------+-------------+-------------------+--------+\n|customer_id|customer_name|          join_date|location|\n+-----------+-------------+-------------------+--------+\n|        105|          Eva|2022-01-01 00:00:00|    Ohio|\n|        106|        Frank|2022-02-01 00:00:00|  Nevada|\n|        107|        Grace|2022-03-01 00:00:00|Colorado|\n|        108|        Henry|2022-04-01 00:00:00|    Utah|\n+-----------+-------------+-------------------+--------+\n\n+-----------+-------------+-------------------+--------+-----------+-----------------+\n|customer_id|customer_name|          join_date|location|customer_id|         products|\n+-----------+-------------+-------------------+--------+-----------+-----------------+\n|        107|        Grace|2022-03-01 00:00:00|Colorado|        107|[AirPods, iPhone]|\n|        108|        Henry|2022-04-01 00:00:00|    Utah|        108|[AirPods, iPhone]|\n+-----------+-------------+-------------------+--------+-----------+-----------------+\n\n"
     ]
    }
   ],
   "source": [
    "class WorkFlowRunner:\n",
    "\n",
    "  def __init__(self,name):\n",
    "    self.name=name\n",
    "\n",
    "  def runner(self):\n",
    "\n",
    "    if self.name=='FirstWorkFlow':\n",
    "      return FirstWorkFlow().runner()\n",
    "    elif self.name=='SecondWorkFlow':\n",
    "      return SecondWorkFlow().runner()\n",
    "\n",
    "\n",
    "name= 'SecondWorkFlow'\n",
    "WorkFlowRunner(name).runner()\n",
    "    \n",
    "\n",
    "\n"
   ]
  }
 ],
 "metadata": {
  "application/vnd.databricks.v1+notebook": {
   "dashboards": [],
   "environmentMetadata": null,
   "language": "python",
   "notebookMetadata": {
    "pythonIndentUnit": 2
   },
   "notebookName": "apple_analysis",
   "widgets": {}
  }
 },
 "nbformat": 4,
 "nbformat_minor": 0
}
